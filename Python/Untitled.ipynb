{
 "cells": [
  {
   "cell_type": "markdown",
   "metadata": {},
   "source": [
    "# Creating the CSV For the Project"
   ]
  },
  {
   "cell_type": "code",
   "execution_count": 1,
   "metadata": {},
   "outputs": [],
   "source": [
    "import pandas as pd\n",
    "import numpy as np"
   ]
  },
  {
   "cell_type": "code",
   "execution_count": 4,
   "metadata": {},
   "outputs": [],
   "source": [
    "battingDashboard = pd.read_csv(\"./Fangraphs/2018Dash.csv\")\n",
    "battingStandard = pd.read_csv(\"./Fangraphs/2018Standard.csv\")\n",
    "battingAdvanced = pd.read_csv(\"./Fangraphs/2018Advanced.csv\")"
   ]
  },
  {
   "cell_type": "code",
   "execution_count": 5,
   "metadata": {},
   "outputs": [],
   "source": [
    "battingAll = pd.merge(battingDashboard, battingStandard, on=\"Name\", how=\"left\")"
   ]
  },
  {
   "cell_type": "code",
   "execution_count": 6,
   "metadata": {},
   "outputs": [],
   "source": [
    "battingAll = pd.merge(battingAll, battingAdvanced, on=\"Name\", how=\"left\")"
   ]
  },
  {
   "cell_type": "code",
   "execution_count": 8,
   "metadata": {},
   "outputs": [
    {
     "data": {
      "text/plain": [
       "Index([u'Name', u'Team_x', u'G_x', u'PA_x', u'HR_x', u'R_x', u'RBI_x', u'SB_x',\n",
       "       u'BB%_x', u'K%_x', u'ISO_x', u'BABIP_x', u'AVG_x', u'OBP_x', u'SLG_x',\n",
       "       u'wOBA_x', u'wRC+_x', u'BsR', u'Off', u'Def', u'WAR', u'playerid_x',\n",
       "       u'Team_y', u'G_y', u'AB', u'PA_y', u'H', u'1B', u'2B', u'3B', u'HR_y',\n",
       "       u'R_y', u'RBI_y', u'BB', u'IBB', u'SO', u'HBP', u'SF', u'SH', u'GDP',\n",
       "       u'SB_y', u'CS', u'AVG_y', u'playerid_y', u'Team', u'PA', u'BB%_y',\n",
       "       u'K%_y', u'BB/K', u'AVG', u'OBP_y', u'SLG_y', u'OPS', u'ISO_y', u'Spd',\n",
       "       u'BABIP_y', u'UBR', u'wGDP', u'wSB', u'wRC', u'wRAA', u'wOBA_y',\n",
       "       u'wRC+_y', u'playerid'],\n",
       "      dtype='object')"
      ]
     },
     "execution_count": 8,
     "metadata": {},
     "output_type": "execute_result"
    }
   ],
   "source": [
    "battingAll.columns"
   ]
  },
  {
   "cell_type": "code",
   "execution_count": 9,
   "metadata": {},
   "outputs": [
    {
     "data": {
      "text/plain": [
       "Index([u'Name', u'Team', u'G', u'PA', u'HR', u'R', u'RBI', u'SB', u'BB%',\n",
       "       u'K%', u'ISO', u'BABIP', u'AVG', u'OBP', u'SLG', u'wOBA', u'wRC+',\n",
       "       u'BsR', u'Off', u'Def', u'WAR', u'playerid'],\n",
       "      dtype='object')"
      ]
     },
     "execution_count": 9,
     "metadata": {},
     "output_type": "execute_result"
    }
   ],
   "source": [
    "battingDashboard.columns"
   ]
  },
  {
   "cell_type": "code",
   "execution_count": 10,
   "metadata": {},
   "outputs": [
    {
     "data": {
      "text/plain": [
       "Index([u'Name', u'Team', u'G', u'AB', u'PA', u'H', u'1B', u'2B', u'3B', u'HR',\n",
       "       u'R', u'RBI', u'BB', u'IBB', u'SO', u'HBP', u'SF', u'SH', u'GDP', u'SB',\n",
       "       u'CS', u'AVG', u'playerid'],\n",
       "      dtype='object')"
      ]
     },
     "execution_count": 10,
     "metadata": {},
     "output_type": "execute_result"
    }
   ],
   "source": [
    "battingStandard.columns"
   ]
  },
  {
   "cell_type": "code",
   "execution_count": 11,
   "metadata": {},
   "outputs": [
    {
     "data": {
      "text/plain": [
       "Index([u'Name', u'Team', u'PA', u'BB%', u'K%', u'BB/K', u'AVG', u'OBP', u'SLG',\n",
       "       u'OPS', u'ISO', u'Spd', u'BABIP', u'UBR', u'wGDP', u'wSB', u'wRC',\n",
       "       u'wRAA', u'wOBA', u'wRC+', u'playerid'],\n",
       "      dtype='object')"
      ]
     },
     "execution_count": 11,
     "metadata": {},
     "output_type": "execute_result"
    }
   ],
   "source": [
    "battingAdvanced.columns"
   ]
  },
  {
   "cell_type": "code",
   "execution_count": 18,
   "metadata": {},
   "outputs": [],
   "source": [
    "removeFromDashboard = ['Team', 'G', 'PA', 'HR', 'R', 'RBI', 'SB', 'BB%', 'K%', 'ISO', 'BABIP', 'AVG', \"OBP\", 'SLG', 'wOBA', 'wRC+', 'playerid']\n",
    "removeFromAdvanced = ['Team', 'PA', 'playerid', 'AVG']"
   ]
  },
  {
   "cell_type": "code",
   "execution_count": 19,
   "metadata": {},
   "outputs": [],
   "source": [
    "battingDashboard = pd.read_csv(\"./Fangraphs/2018Dash.csv\")\n",
    "battingDashboard = battingDashboard.drop(removeFromDashboard, axis=1)\n",
    "battingStandard = pd.read_csv(\"./Fangraphs/2018Standard.csv\")\n",
    "battingAdvanced = pd.read_csv(\"./Fangraphs/2018Advanced.csv\")\n",
    "battingAdvanced = battingAdvanced.drop(removeFromAdvanced, axis=1)"
   ]
  },
  {
   "cell_type": "code",
   "execution_count": 20,
   "metadata": {},
   "outputs": [],
   "source": [
    "battingAll = pd.merge(battingDashboard, battingStandard, on=\"Name\", how=\"left\")\n",
    "battingAll = pd.merge(battingAll, battingAdvanced, on=\"Name\", how=\"left\")"
   ]
  },
  {
   "cell_type": "code",
   "execution_count": 21,
   "metadata": {},
   "outputs": [
    {
     "data": {
      "text/plain": [
       "Index([u'Name', u'BsR', u'Off', u'Def', u'WAR', u'Team', u'G', u'AB', u'PA',\n",
       "       u'H', u'1B', u'2B', u'3B', u'HR', u'R', u'RBI', u'BB', u'IBB', u'SO',\n",
       "       u'HBP', u'SF', u'SH', u'GDP', u'SB', u'CS', u'AVG', u'playerid', u'BB%',\n",
       "       u'K%', u'BB/K', u'OBP', u'SLG', u'OPS', u'ISO', u'Spd', u'BABIP',\n",
       "       u'UBR', u'wGDP', u'wSB', u'wRC', u'wRAA', u'wOBA', u'wRC+'],\n",
       "      dtype='object')"
      ]
     },
     "execution_count": 21,
     "metadata": {},
     "output_type": "execute_result"
    }
   ],
   "source": [
    "battingAll.columns"
   ]
  },
  {
   "cell_type": "code",
   "execution_count": 23,
   "metadata": {},
   "outputs": [],
   "source": [
    "years = [\"2015\", \"2016\", \"2017\", \"2018\"]\n",
    "\n",
    "battingDashboard = pd.read_csv(\"./Fangraphs/2014Dash.csv\")\n",
    "battingDashboard = battingDashboard.drop(removeFromDashboard, axis=1)\n",
    "battingStandard = pd.read_csv(\"./Fangraphs/2014Standard.csv\")\n",
    "battingAdvanced = pd.read_csv(\"./Fangraphs/2014Advanced.csv\")\n",
    "battingAdvanced = battingAdvanced.drop(removeFromAdvanced, axis=1)\n",
    "battingDashboard[\"Year\"] = 2014\n",
    "battingAll = pd.merge(battingDashboard, battingStandard, on=\"Name\", how=\"left\")\n",
    "battingAll = pd.merge(battingAll, battingAdvanced, on=\"Name\", how=\"left\")\n",
    "\n",
    "for year in years:\n",
    "    battingDashboard = pd.read_csv(\"./Fangraphs/{}Dash.csv\".format(year))\n",
    "    battingDashboard = battingDashboard.drop(removeFromDashboard, axis=1)\n",
    "    battingStandard = pd.read_csv(\"./Fangraphs/{}Standard.csv\".format(year))\n",
    "    battingAdvanced = pd.read_csv(\"./Fangraphs/{}Advanced.csv\".format(year))\n",
    "    battingAdvanced = battingAdvanced.drop(removeFromAdvanced, axis=1)\n",
    "    battingDashboard[\"Year\"] = year\n",
    "    battingToAdd = pd.merge(battingDashboard, battingStandard, on=\"Name\", how=\"left\")\n",
    "    battingToAdd = pd.merge(battingToAdd, battingAdvanced, on=\"Name\", how=\"left\")\n",
    "    \n",
    "    \n",
    "    battingAll = pd.concat([battingAll, battingToAdd])"
   ]
  },
  {
   "cell_type": "code",
   "execution_count": 25,
   "metadata": {},
   "outputs": [
    {
     "data": {
      "text/plain": [
       "array([2014, '2015', '2016', '2017', '2018'], dtype=object)"
      ]
     },
     "execution_count": 25,
     "metadata": {},
     "output_type": "execute_result"
    }
   ],
   "source": [
    "battingAll['Year'].unique()"
   ]
  },
  {
   "cell_type": "code",
   "execution_count": 26,
   "metadata": {},
   "outputs": [
    {
     "data": {
      "text/html": [
       "<div>\n",
       "<style scoped>\n",
       "    .dataframe tbody tr th:only-of-type {\n",
       "        vertical-align: middle;\n",
       "    }\n",
       "\n",
       "    .dataframe tbody tr th {\n",
       "        vertical-align: top;\n",
       "    }\n",
       "\n",
       "    .dataframe thead th {\n",
       "        text-align: right;\n",
       "    }\n",
       "</style>\n",
       "<table border=\"1\" class=\"dataframe\">\n",
       "  <thead>\n",
       "    <tr style=\"text-align: right;\">\n",
       "      <th></th>\n",
       "      <th>Name</th>\n",
       "      <th>BsR</th>\n",
       "      <th>Off</th>\n",
       "      <th>Def</th>\n",
       "      <th>WAR</th>\n",
       "      <th>Year</th>\n",
       "      <th>Team</th>\n",
       "      <th>G</th>\n",
       "      <th>AB</th>\n",
       "      <th>PA</th>\n",
       "      <th>...</th>\n",
       "      <th>ISO</th>\n",
       "      <th>Spd</th>\n",
       "      <th>BABIP</th>\n",
       "      <th>UBR</th>\n",
       "      <th>wGDP</th>\n",
       "      <th>wSB</th>\n",
       "      <th>wRC</th>\n",
       "      <th>wRAA</th>\n",
       "      <th>wOBA</th>\n",
       "      <th>wRC+</th>\n",
       "    </tr>\n",
       "  </thead>\n",
       "  <tbody>\n",
       "    <tr>\n",
       "      <th>0</th>\n",
       "      <td>Mike Trout</td>\n",
       "      <td>6.2</td>\n",
       "      <td>57.8</td>\n",
       "      <td>-4.5</td>\n",
       "      <td>8.3</td>\n",
       "      <td>2014</td>\n",
       "      <td>Angels</td>\n",
       "      <td>157</td>\n",
       "      <td>602</td>\n",
       "      <td>705</td>\n",
       "      <td>...</td>\n",
       "      <td>0.274</td>\n",
       "      <td>7.0</td>\n",
       "      <td>0.349</td>\n",
       "      <td>1.3</td>\n",
       "      <td>3.1</td>\n",
       "      <td>1.8</td>\n",
       "      <td>126</td>\n",
       "      <td>49.9</td>\n",
       "      <td>0.402</td>\n",
       "      <td>167</td>\n",
       "    </tr>\n",
       "    <tr>\n",
       "      <th>1</th>\n",
       "      <td>Jonathan Lucroy</td>\n",
       "      <td>-1.9</td>\n",
       "      <td>22.3</td>\n",
       "      <td>31.8</td>\n",
       "      <td>8.1</td>\n",
       "      <td>2014</td>\n",
       "      <td>Brewers</td>\n",
       "      <td>153</td>\n",
       "      <td>585</td>\n",
       "      <td>655</td>\n",
       "      <td>...</td>\n",
       "      <td>0.164</td>\n",
       "      <td>2.9</td>\n",
       "      <td>0.324</td>\n",
       "      <td>0.2</td>\n",
       "      <td>-0.7</td>\n",
       "      <td>-1.4</td>\n",
       "      <td>100</td>\n",
       "      <td>29.3</td>\n",
       "      <td>0.368</td>\n",
       "      <td>133</td>\n",
       "    </tr>\n",
       "    <tr>\n",
       "      <th>2</th>\n",
       "      <td>Buster Posey</td>\n",
       "      <td>-3.5</td>\n",
       "      <td>25.4</td>\n",
       "      <td>27.0</td>\n",
       "      <td>7.8</td>\n",
       "      <td>2014</td>\n",
       "      <td>Giants</td>\n",
       "      <td>147</td>\n",
       "      <td>547</td>\n",
       "      <td>605</td>\n",
       "      <td>...</td>\n",
       "      <td>0.179</td>\n",
       "      <td>2.0</td>\n",
       "      <td>0.319</td>\n",
       "      <td>-1.8</td>\n",
       "      <td>-0.7</td>\n",
       "      <td>-1.0</td>\n",
       "      <td>93</td>\n",
       "      <td>28.2</td>\n",
       "      <td>0.371</td>\n",
       "      <td>142</td>\n",
       "    </tr>\n",
       "    <tr>\n",
       "      <th>3</th>\n",
       "      <td>Andrew McCutchen</td>\n",
       "      <td>1.5</td>\n",
       "      <td>51.3</td>\n",
       "      <td>-3.4</td>\n",
       "      <td>7.4</td>\n",
       "      <td>2014</td>\n",
       "      <td>Pirates</td>\n",
       "      <td>146</td>\n",
       "      <td>548</td>\n",
       "      <td>648</td>\n",
       "      <td>...</td>\n",
       "      <td>0.228</td>\n",
       "      <td>5.8</td>\n",
       "      <td>0.355</td>\n",
       "      <td>-1.5</td>\n",
       "      <td>1.2</td>\n",
       "      <td>1.8</td>\n",
       "      <td>120</td>\n",
       "      <td>50.5</td>\n",
       "      <td>0.412</td>\n",
       "      <td>168</td>\n",
       "    </tr>\n",
       "    <tr>\n",
       "      <th>4</th>\n",
       "      <td>Giancarlo Stanton</td>\n",
       "      <td>0.2</td>\n",
       "      <td>43.8</td>\n",
       "      <td>-0.7</td>\n",
       "      <td>6.8</td>\n",
       "      <td>2014</td>\n",
       "      <td>Marlins</td>\n",
       "      <td>145</td>\n",
       "      <td>539</td>\n",
       "      <td>638</td>\n",
       "      <td>...</td>\n",
       "      <td>0.267</td>\n",
       "      <td>4.2</td>\n",
       "      <td>0.353</td>\n",
       "      <td>-1.3</td>\n",
       "      <td>-0.1</td>\n",
       "      <td>1.6</td>\n",
       "      <td>114</td>\n",
       "      <td>45.6</td>\n",
       "      <td>0.403</td>\n",
       "      <td>161</td>\n",
       "    </tr>\n",
       "  </tbody>\n",
       "</table>\n",
       "<p>5 rows × 44 columns</p>\n",
       "</div>"
      ],
      "text/plain": [
       "                Name  BsR   Off   Def  WAR  Year     Team    G   AB   PA  \\\n",
       "0         Mike Trout  6.2  57.8  -4.5  8.3  2014   Angels  157  602  705   \n",
       "1    Jonathan Lucroy -1.9  22.3  31.8  8.1  2014  Brewers  153  585  655   \n",
       "2       Buster Posey -3.5  25.4  27.0  7.8  2014   Giants  147  547  605   \n",
       "3   Andrew McCutchen  1.5  51.3  -3.4  7.4  2014  Pirates  146  548  648   \n",
       "4  Giancarlo Stanton  0.2  43.8  -0.7  6.8  2014  Marlins  145  539  638   \n",
       "\n",
       "   ...     ISO  Spd  BABIP  UBR  wGDP  wSB  wRC  wRAA   wOBA  wRC+  \n",
       "0  ...   0.274  7.0  0.349  1.3   3.1  1.8  126  49.9  0.402   167  \n",
       "1  ...   0.164  2.9  0.324  0.2  -0.7 -1.4  100  29.3  0.368   133  \n",
       "2  ...   0.179  2.0  0.319 -1.8  -0.7 -1.0   93  28.2  0.371   142  \n",
       "3  ...   0.228  5.8  0.355 -1.5   1.2  1.8  120  50.5  0.412   168  \n",
       "4  ...   0.267  4.2  0.353 -1.3  -0.1  1.6  114  45.6  0.403   161  \n",
       "\n",
       "[5 rows x 44 columns]"
      ]
     },
     "execution_count": 26,
     "metadata": {},
     "output_type": "execute_result"
    }
   ],
   "source": [
    "battingAll.head()"
   ]
  },
  {
   "cell_type": "code",
   "execution_count": 27,
   "metadata": {},
   "outputs": [
    {
     "name": "stdout",
     "output_type": "stream",
     "text": [
      "<class 'pandas.core.frame.DataFrame'>\n",
      "Int64Index: 2209 entries, 0 to 447\n",
      "Data columns (total 44 columns):\n",
      "Name        2209 non-null object\n",
      "BsR         2209 non-null float64\n",
      "Off         2209 non-null float64\n",
      "Def         2209 non-null float64\n",
      "WAR         2209 non-null float64\n",
      "Year        2209 non-null object\n",
      "Team        2209 non-null object\n",
      "G           2209 non-null int64\n",
      "AB          2209 non-null int64\n",
      "PA          2209 non-null int64\n",
      "H           2209 non-null int64\n",
      "1B          2209 non-null int64\n",
      "2B          2209 non-null int64\n",
      "3B          2209 non-null int64\n",
      "HR          2209 non-null int64\n",
      "R           2209 non-null int64\n",
      "RBI         2209 non-null int64\n",
      "BB          2209 non-null int64\n",
      "IBB         2209 non-null int64\n",
      "SO          2209 non-null int64\n",
      "HBP         2209 non-null int64\n",
      "SF          2209 non-null int64\n",
      "SH          2209 non-null int64\n",
      "GDP         2209 non-null int64\n",
      "SB          2209 non-null int64\n",
      "CS          2209 non-null int64\n",
      "AVG         2209 non-null float64\n",
      "playerid    2209 non-null int64\n",
      "BB%         2209 non-null object\n",
      "K%          2209 non-null object\n",
      "BB/K        2209 non-null float64\n",
      "OBP         2209 non-null float64\n",
      "SLG         2209 non-null float64\n",
      "OPS         2209 non-null float64\n",
      "ISO         2209 non-null float64\n",
      "Spd         2209 non-null float64\n",
      "BABIP       2209 non-null float64\n",
      "UBR         2209 non-null float64\n",
      "wGDP        2209 non-null float64\n",
      "wSB         2209 non-null float64\n",
      "wRC         2209 non-null int64\n",
      "wRAA        2209 non-null float64\n",
      "wOBA        2209 non-null float64\n",
      "wRC+        2209 non-null int64\n",
      "dtypes: float64(17), int64(22), object(5)\n",
      "memory usage: 776.6+ KB\n"
     ]
    }
   ],
   "source": [
    "battingAll.info()"
   ]
  },
  {
   "cell_type": "code",
   "execution_count": 28,
   "metadata": {},
   "outputs": [
    {
     "data": {
      "text/html": [
       "<div>\n",
       "<style scoped>\n",
       "    .dataframe tbody tr th:only-of-type {\n",
       "        vertical-align: middle;\n",
       "    }\n",
       "\n",
       "    .dataframe tbody tr th {\n",
       "        vertical-align: top;\n",
       "    }\n",
       "\n",
       "    .dataframe thead th {\n",
       "        text-align: right;\n",
       "    }\n",
       "</style>\n",
       "<table border=\"1\" class=\"dataframe\">\n",
       "  <thead>\n",
       "    <tr style=\"text-align: right;\">\n",
       "      <th></th>\n",
       "      <th>Name</th>\n",
       "      <th>BsR</th>\n",
       "      <th>Off</th>\n",
       "      <th>Def</th>\n",
       "      <th>WAR</th>\n",
       "      <th>Year</th>\n",
       "      <th>Team</th>\n",
       "      <th>G</th>\n",
       "      <th>AB</th>\n",
       "      <th>PA</th>\n",
       "      <th>...</th>\n",
       "      <th>ISO</th>\n",
       "      <th>Spd</th>\n",
       "      <th>BABIP</th>\n",
       "      <th>UBR</th>\n",
       "      <th>wGDP</th>\n",
       "      <th>wSB</th>\n",
       "      <th>wRC</th>\n",
       "      <th>wRAA</th>\n",
       "      <th>wOBA</th>\n",
       "      <th>wRC+</th>\n",
       "    </tr>\n",
       "  </thead>\n",
       "  <tbody>\n",
       "    <tr>\n",
       "      <th>126</th>\n",
       "      <td>Tim Anderson</td>\n",
       "      <td>0.3</td>\n",
       "      <td>-1.0</td>\n",
       "      <td>6.3</td>\n",
       "      <td>2.1</td>\n",
       "      <td>2016</td>\n",
       "      <td>White Sox</td>\n",
       "      <td>99</td>\n",
       "      <td>410</td>\n",
       "      <td>431</td>\n",
       "      <td>...</td>\n",
       "      <td>0.149</td>\n",
       "      <td>7.0</td>\n",
       "      <td>0.375</td>\n",
       "      <td>1.3</td>\n",
       "      <td>-2.0</td>\n",
       "      <td>1.0</td>\n",
       "      <td>50</td>\n",
       "      <td>-1.0</td>\n",
       "      <td>0.315</td>\n",
       "      <td>98</td>\n",
       "    </tr>\n",
       "    <tr>\n",
       "      <th>309</th>\n",
       "      <td>Tim Anderson</td>\n",
       "      <td>3.7</td>\n",
       "      <td>-12.7</td>\n",
       "      <td>-7.0</td>\n",
       "      <td>0.1</td>\n",
       "      <td>2017</td>\n",
       "      <td>White Sox</td>\n",
       "      <td>146</td>\n",
       "      <td>587</td>\n",
       "      <td>606</td>\n",
       "      <td>...</td>\n",
       "      <td>0.145</td>\n",
       "      <td>6.2</td>\n",
       "      <td>0.328</td>\n",
       "      <td>1.3</td>\n",
       "      <td>0.1</td>\n",
       "      <td>2.3</td>\n",
       "      <td>57</td>\n",
       "      <td>-16.6</td>\n",
       "      <td>0.288</td>\n",
       "      <td>78</td>\n",
       "    </tr>\n",
       "    <tr>\n",
       "      <th>130</th>\n",
       "      <td>Tim Anderson</td>\n",
       "      <td>2.8</td>\n",
       "      <td>-7.9</td>\n",
       "      <td>7.2</td>\n",
       "      <td>2.0</td>\n",
       "      <td>2018</td>\n",
       "      <td>White Sox</td>\n",
       "      <td>153</td>\n",
       "      <td>567</td>\n",
       "      <td>606</td>\n",
       "      <td>...</td>\n",
       "      <td>0.166</td>\n",
       "      <td>6.3</td>\n",
       "      <td>0.289</td>\n",
       "      <td>2.8</td>\n",
       "      <td>-1.7</td>\n",
       "      <td>1.7</td>\n",
       "      <td>61</td>\n",
       "      <td>-10.0</td>\n",
       "      <td>0.294</td>\n",
       "      <td>85</td>\n",
       "    </tr>\n",
       "  </tbody>\n",
       "</table>\n",
       "<p>3 rows × 44 columns</p>\n",
       "</div>"
      ],
      "text/plain": [
       "             Name  BsR   Off  Def  WAR  Year       Team    G   AB   PA  ...   \\\n",
       "126  Tim Anderson  0.3  -1.0  6.3  2.1  2016  White Sox   99  410  431  ...    \n",
       "309  Tim Anderson  3.7 -12.7 -7.0  0.1  2017  White Sox  146  587  606  ...    \n",
       "130  Tim Anderson  2.8  -7.9  7.2  2.0  2018  White Sox  153  567  606  ...    \n",
       "\n",
       "       ISO  Spd  BABIP  UBR  wGDP  wSB  wRC  wRAA   wOBA  wRC+  \n",
       "126  0.149  7.0  0.375  1.3  -2.0  1.0   50  -1.0  0.315    98  \n",
       "309  0.145  6.2  0.328  1.3   0.1  2.3   57 -16.6  0.288    78  \n",
       "130  0.166  6.3  0.289  2.8  -1.7  1.7   61 -10.0  0.294    85  \n",
       "\n",
       "[3 rows x 44 columns]"
      ]
     },
     "execution_count": 28,
     "metadata": {},
     "output_type": "execute_result"
    }
   ],
   "source": [
    "battingAll.loc[battingAll[\"Name\"] == \"Tim Anderson\"]"
   ]
  },
  {
   "cell_type": "code",
   "execution_count": null,
   "metadata": {},
   "outputs": [],
   "source": []
  }
 ],
 "metadata": {
  "kernelspec": {
   "display_name": "Python 3",
   "language": "python",
   "name": "python3"
  },
  "language_info": {
   "codemirror_mode": {
    "name": "ipython",
    "version": 2
   },
   "file_extension": ".py",
   "mimetype": "text/x-python",
   "name": "python",
   "nbconvert_exporter": "python",
   "pygments_lexer": "ipython2",
   "version": "2.7.14"
  }
 },
 "nbformat": 4,
 "nbformat_minor": 2
}
