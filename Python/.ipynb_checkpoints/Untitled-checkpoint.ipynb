{
 "cells": [
  {
   "cell_type": "markdown",
   "metadata": {},
   "source": [
    "# Creating the CSV For the Project"
   ]
  },
  {
   "cell_type": "code",
   "execution_count": 1,
   "metadata": {},
   "outputs": [],
   "source": [
    "import pandas as pd\n",
    "import numpy as np"
   ]
  },
  {
   "cell_type": "code",
   "execution_count": 4,
   "metadata": {},
   "outputs": [],
   "source": [
    "battingDashboard = pd.read_csv(\"./Fangraphs/2018Dash.csv\")\n",
    "battingStandard = pd.read_csv(\"./Fangraphs/2018Standard.csv\")\n",
    "battingAdvanced = pd.read_csv(\"./Fangraphs/2018Advanced.csv\")"
   ]
  },
  {
   "cell_type": "code",
   "execution_count": 5,
   "metadata": {},
   "outputs": [],
   "source": [
    "battingAll = pd.merge(battingDashboard, battingStandard, on=\"Name\", how=\"left\")"
   ]
  },
  {
   "cell_type": "code",
   "execution_count": 6,
   "metadata": {},
   "outputs": [],
   "source": [
    "battingAll = pd.merge(battingAll, battingAdvanced, on=\"Name\", how=\"left\")"
   ]
  },
  {
   "cell_type": "code",
   "execution_count": 8,
   "metadata": {},
   "outputs": [
    {
     "data": {
      "text/plain": [
       "Index([u'Name', u'Team_x', u'G_x', u'PA_x', u'HR_x', u'R_x', u'RBI_x', u'SB_x',\n",
       "       u'BB%_x', u'K%_x', u'ISO_x', u'BABIP_x', u'AVG_x', u'OBP_x', u'SLG_x',\n",
       "       u'wOBA_x', u'wRC+_x', u'BsR', u'Off', u'Def', u'WAR', u'playerid_x',\n",
       "       u'Team_y', u'G_y', u'AB', u'PA_y', u'H', u'1B', u'2B', u'3B', u'HR_y',\n",
       "       u'R_y', u'RBI_y', u'BB', u'IBB', u'SO', u'HBP', u'SF', u'SH', u'GDP',\n",
       "       u'SB_y', u'CS', u'AVG_y', u'playerid_y', u'Team', u'PA', u'BB%_y',\n",
       "       u'K%_y', u'BB/K', u'AVG', u'OBP_y', u'SLG_y', u'OPS', u'ISO_y', u'Spd',\n",
       "       u'BABIP_y', u'UBR', u'wGDP', u'wSB', u'wRC', u'wRAA', u'wOBA_y',\n",
       "       u'wRC+_y', u'playerid'],\n",
       "      dtype='object')"
      ]
     },
     "execution_count": 8,
     "metadata": {},
     "output_type": "execute_result"
    }
   ],
   "source": [
    "battingAll.columns"
   ]
  },
  {
   "cell_type": "code",
   "execution_count": 9,
   "metadata": {},
   "outputs": [
    {
     "data": {
      "text/plain": [
       "Index([u'Name', u'Team', u'G', u'PA', u'HR', u'R', u'RBI', u'SB', u'BB%',\n",
       "       u'K%', u'ISO', u'BABIP', u'AVG', u'OBP', u'SLG', u'wOBA', u'wRC+',\n",
       "       u'BsR', u'Off', u'Def', u'WAR', u'playerid'],\n",
       "      dtype='object')"
      ]
     },
     "execution_count": 9,
     "metadata": {},
     "output_type": "execute_result"
    }
   ],
   "source": [
    "battingDashboard.columns"
   ]
  },
  {
   "cell_type": "code",
   "execution_count": 10,
   "metadata": {},
   "outputs": [
    {
     "data": {
      "text/plain": [
       "Index([u'Name', u'Team', u'G', u'AB', u'PA', u'H', u'1B', u'2B', u'3B', u'HR',\n",
       "       u'R', u'RBI', u'BB', u'IBB', u'SO', u'HBP', u'SF', u'SH', u'GDP', u'SB',\n",
       "       u'CS', u'AVG', u'playerid'],\n",
       "      dtype='object')"
      ]
     },
     "execution_count": 10,
     "metadata": {},
     "output_type": "execute_result"
    }
   ],
   "source": [
    "battingStandard.columns"
   ]
  },
  {
   "cell_type": "code",
   "execution_count": 11,
   "metadata": {},
   "outputs": [
    {
     "data": {
      "text/plain": [
       "Index([u'Name', u'Team', u'PA', u'BB%', u'K%', u'BB/K', u'AVG', u'OBP', u'SLG',\n",
       "       u'OPS', u'ISO', u'Spd', u'BABIP', u'UBR', u'wGDP', u'wSB', u'wRC',\n",
       "       u'wRAA', u'wOBA', u'wRC+', u'playerid'],\n",
       "      dtype='object')"
      ]
     },
     "execution_count": 11,
     "metadata": {},
     "output_type": "execute_result"
    }
   ],
   "source": [
    "battingAdvanced.columns"
   ]
  },
  {
   "cell_type": "code",
   "execution_count": 18,
   "metadata": {},
   "outputs": [],
   "source": [
    "removeFromDashboard = ['Team', 'G', 'PA', 'HR', 'R', 'RBI', 'SB', 'BB%', 'K%', 'ISO', 'BABIP', 'AVG', \"OBP\", 'SLG', 'wOBA', 'wRC+', 'playerid']\n",
    "removeFromAdvanced = ['Team', 'PA', 'playerid', 'AVG']"
   ]
  },
  {
   "cell_type": "code",
   "execution_count": 19,
   "metadata": {},
   "outputs": [],
   "source": [
    "battingDashboard = pd.read_csv(\"./Fangraphs/2018Dash.csv\")\n",
    "battingDashboard = battingDashboard.drop(removeFromDashboard, axis=1)\n",
    "battingStandard = pd.read_csv(\"./Fangraphs/2018Standard.csv\")\n",
    "battingAdvanced = pd.read_csv(\"./Fangraphs/2018Advanced.csv\")\n",
    "battingAdvanced = battingAdvanced.drop(removeFromAdvanced, axis=1)"
   ]
  },
  {
   "cell_type": "code",
   "execution_count": 20,
   "metadata": {},
   "outputs": [],
   "source": [
    "battingAll = pd.merge(battingDashboard, battingStandard, on=\"Name\", how=\"left\")\n",
    "battingAll = pd.merge(battingAll, battingAdvanced, on=\"Name\", how=\"left\")"
   ]
  },
  {
   "cell_type": "code",
   "execution_count": 21,
   "metadata": {},
   "outputs": [
    {
     "data": {
      "text/plain": [
       "Index([u'Name', u'BsR', u'Off', u'Def', u'WAR', u'Team', u'G', u'AB', u'PA',\n",
       "       u'H', u'1B', u'2B', u'3B', u'HR', u'R', u'RBI', u'BB', u'IBB', u'SO',\n",
       "       u'HBP', u'SF', u'SH', u'GDP', u'SB', u'CS', u'AVG', u'playerid', u'BB%',\n",
       "       u'K%', u'BB/K', u'OBP', u'SLG', u'OPS', u'ISO', u'Spd', u'BABIP',\n",
       "       u'UBR', u'wGDP', u'wSB', u'wRC', u'wRAA', u'wOBA', u'wRC+'],\n",
       "      dtype='object')"
      ]
     },
     "execution_count": 21,
     "metadata": {},
     "output_type": "execute_result"
    }
   ],
   "source": [
    "battingAll.columns"
   ]
  },
  {
   "cell_type": "code",
   "execution_count": null,
   "metadata": {},
   "outputs": [],
   "source": [
    "years = [\"2015\", \"2016\", \"2017\", \"2018\"]\n",
    "\n",
    "battingDashboard = pd.read_csv(\"./Fangraphs/2014Dash.csv\")\n",
    "battingDashboard = battingDashboard.drop(removeFromDashboard, axis=1)\n",
    "battingStandard = pd.read_csv(\"./Fangraphs/2014Standard.csv\")\n",
    "battingAdvanced = pd.read_csv(\"./Fangraphs/2014Advanced.csv\")\n",
    "battingAdvanced = battingAdvanced.drop(removeFromAdvanced, axis=1)\n",
    "battingDashboard[\"Year\"] = 2014\n",
    "battingAll = pd.merge(battingDashboard, battingStandard, on=\"Name\", how=\"left\")\n",
    "battingAll = pd.merge(battingAll, battingAdvanced, on=\"Name\", how=\"left\")\n",
    "\n",
    "for year in years:\n",
    "    temp = pd.read_csv(\"batting{}S.csv\".format(year))\n",
    "    temp[\"Year\"] = int(year)\n",
    "    temp = pd.merge(temp, pd.read_csv(\"batting{}A.csv\".format(year))[nonRepeatedColumns], on=\"Name\", how=\"left\")\n",
    "    \n",
    "    battingDashboard = pd.read_csv(\"./Fangraphs/2014Dash.csv\")\n",
    "    battingDashboard = battingDashboard.drop(removeFromDashboard, axis=1)\n",
    "    battingStandard = pd.read_csv(\"./Fangraphs/2014Standard.csv\")\n",
    "    battingAdvanced = pd.read_csv(\"./Fangraphs/2014Advanced.csv\")\n",
    "    battingAdvanced = battingAdvanced.drop(removeFromAdvanced, axis=1)\n",
    "    battingDashboard[\"Year\"] = 2014\n",
    "    battingAll = pd.merge(battingDashboard, battingStandard, on=\"Name\", how=\"left\")\n",
    "    battingAll = pd.merge(battingAll, battingAdvanced, on=\"Name\", how=\"left\")\n",
    "    \n",
    "    \n",
    "    battingLast10Years = pd.concat([battingLast10Years, temp])"
   ]
  }
 ],
 "metadata": {
  "kernelspec": {
   "display_name": "Python 3",
   "language": "python",
   "name": "python3"
  },
  "language_info": {
   "codemirror_mode": {
    "name": "ipython",
    "version": 2
   },
   "file_extension": ".py",
   "mimetype": "text/x-python",
   "name": "python",
   "nbconvert_exporter": "python",
   "pygments_lexer": "ipython2",
   "version": "2.7.14"
  }
 },
 "nbformat": 4,
 "nbformat_minor": 2
}
